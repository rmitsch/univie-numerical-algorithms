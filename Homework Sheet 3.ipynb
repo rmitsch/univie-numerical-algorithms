{
 "cells": [
  {
   "cell_type": "markdown",
   "metadata": {},
   "source": [
    "## <p style=\"text-align: center;\">Numerical Algorithms - Homework Assignment 3</p>\n",
    "**<p style=\"text-align: center;\">VU Numerical Algorithms, summer semester 2018. Due to 17.06.2018. </p>**"
   ]
  },
  {
   "cell_type": "markdown",
   "metadata": {},
   "source": [
    "### Programming Exercises\n",
    "\n",
    "#### Effects of Preconditioners on Conjugate Gradient (12 points)\n",
    "\n",
    "Implement the conjugate gradient method *CG* and experimentally investigate the effect of different preconditioners on its convergence. Please compare standard *CG* and preconditioned *CG* (*PCG*) for three given symmetric positive definite test problems in terms of the number of iterations and in terms of the runtime (including the time for\n",
    "computing and applying the preconditioner!) until convergence. Show the convergence histories (norm of relative residual vs. iteration number) graphically.\n",
    "\n",
    "* Implement standard CG efficiently (do not use the CG implementation available in Octave!). In particular, store the sparse matrix in a sparse matrix format\n",
    "* Use the following preconditioners:\n",
    "Diagonal preconditioner\n",
    "  * Block diagonal preconditioner\n",
    "  * Incomplete Cholesky factorization with no fill-in\n",
    "  * Incomplete Cholesky factorization with threshold dropping: experiment with different thresholds and discuss the effect of the choice of threshold.\n",
    "* Test matrices: Please use (at least) the following three test matrices from the\n",
    "\"Matrix Market\" (http://math.nist.gov/MatrixMarket/) for your experiments:\n",
    "  * http://math.nist.gov/MatrixMarket/data/Harwell-Boeing/lanpro/nos5.html\n",
    "  * http://math.nist.gov/MatrixMarket/data/Harwell-Boeing/lanpro/nos6.html\n",
    "  * http://math.nist.gov/MatrixMarket/data/misc/cylshell/s3rmt3m3.html"
   ]
  },
  {
   "cell_type": "code",
   "execution_count": 1,
   "metadata": {},
   "outputs": [],
   "source": [
    "%plot -f svg\n",
    "\n",
    "# Import routines needed to execute assignment.\n",
    "source(\"source/assignment3.m\")"
   ]
  }
 ],
 "metadata": {
  "kernelspec": {
   "display_name": "Octave",
   "language": "octave",
   "name": "octave"
  },
  "language_info": {
   "file_extension": ".m",
   "help_links": [
    {
     "text": "GNU Octave",
     "url": "https://www.gnu.org/software/octave/support.html"
    },
    {
     "text": "Octave Kernel",
     "url": "https://github.com/Calysto/octave_kernel"
    },
    {
     "text": "MetaKernel Magics",
     "url": "https://github.com/calysto/metakernel/blob/master/metakernel/magics/README.md"
    }
   ],
   "mimetype": "text/x-octave",
   "name": "octave",
   "version": "4.0.0"
  }
 },
 "nbformat": 4,
 "nbformat_minor": 2
}
